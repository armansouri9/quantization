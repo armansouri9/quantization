{
  "nbformat": 4,
  "nbformat_minor": 0,
  "metadata": {
    "colab": {
      "provenance": []
    },
    "kernelspec": {
      "name": "python3",
      "display_name": "Python 3"
    },
    "language_info": {
      "name": "python"
    }
  },
  "cells": [
    {
      "cell_type": "code",
      "execution_count": null,
      "metadata": {
        "id": "JiYnGhn812bm"
      },
      "outputs": [],
      "source": [
        "import torch\n",
        "import torch.nn as nn\n",
        "import torch.optim as optim\n",
        "import torch.quantization\n",
        "\n",
        "# تعریف مدل\n",
        "class Net(nn.Module):\n",
        "    def __init__(self):\n",
        "        super(Net, self).__init__()\n",
        "        self.fc = nn.Linear(784, 10)\n",
        "\n",
        "    def forward(self, x):\n",
        "        x = self.fc(x)\n",
        "        return x\n",
        "\n",
        "# ایجاد نمونه از مدل\n",
        "model = Net()\n",
        "\n",
        "# مدل را به حالت آموزش قرار دهید و آموزش دهید\n",
        "\n",
        "# تعیین حالت ارزیابی برای مدل\n",
        "model.eval()\n",
        "\n",
        "# تعیین مسیر برای ذخیره وزن‌های مدل\n",
        "model_path = 'model.pth'\n",
        "\n",
        "# ذخیره وزن‌های مدل\n",
        "torch.save(model.state_dict(), model_path)\n",
        "\n",
        "# بارگیری وزن‌های مدل\n",
        "loaded_model = Net()\n",
        "loaded_model.load_state_dict(torch.load(model_path))\n",
        "\n",
        "# اعمال quantization به مدل\n",
        "quantized_model = torch.quantization.quantize_dynamic(loaded_model, {torch.nn.Linear}, dtype=torch.qint8)\n",
        "\n",
        "# مقایسه عملکرد مدل قبل و بعد از quantization\n",
        "\n",
        "# تعیین مجموعه داده مورد استفاده برای ارزیابی مدل\n",
        "data = ...\n",
        "\n",
        "# ارزیابی مدل قبل از quantization\n",
        "output_before_quantization = loaded_model(data)\n",
        "\n",
        "# ارزیابی مدل بعد از کوانتیزاسیون\n",
        "output_after_quantization = quantized_model(data)\n",
        "\n",
        "# مقایسه خروجی مدل قبل و بعد از quantization\n",
        "print(\"Output before quantization:\", output_before_quantization)\n",
        "print(\"Output after quantization:\", output_after_quantization)\n"
      ]
    }
  ]
}